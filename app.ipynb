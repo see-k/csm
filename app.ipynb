{
 "cells": [
  {
   "cell_type": "markdown",
   "metadata": {},
   "source": [
    "from generator import load_csm_1b\n",
    "import torchaudio\n",
    "\n",
    "generator = load_csm_1b(device=\"cuda\")\n",
    "\n",
    "audio = generator.generate(\n",
    "    text=\"Hello from Sesame.\",\n",
    "    speaker=0,\n",
    "    context=[],\n",
    "    max_audio_length_ms=10_000,\n",
    ")\n",
    "\n",
    "torchaudio.save(\"audio.wav\", audio.unsqueeze(0).cpu(), generator.sample_rate)"
   ]
  }
 ],
 "metadata": {
  "language_info": {
   "name": "python"
  }
 },
 "nbformat": 4,
 "nbformat_minor": 2
}
